{
 "cells": [
  {
   "cell_type": "code",
   "execution_count": null,
   "metadata": {},
   "outputs": [],
   "source": [
    "import numpy as np\n",
    "from src.Normalizer import normalize_file\n",
    "from src.Tokenizer import  Tokenizer\n",
    "from src.NgramModel import NGModel\n",
    "import matplotlib.pyplot as plt\n",
    "import seaborn as sns"
   ]
  },
  {
   "cell_type": "markdown",
   "metadata": {},
   "source": [
    "## Language Modelling"
   ]
  },
  {
   "cell_type": "code",
   "execution_count": null,
   "metadata": {},
   "outputs": [],
   "source": [
    "af_file = \"data/train.af.txt\"\n",
    "en_file = \"data/train.en.txt\"\n",
    "nl_file = \"data/train.nl.txt\"\n",
    "xh_file = \"data/train.xh.txt\"\n",
    "zu_file = \"data/train.zu.txt\"\n",
    "\n",
    "af_val_file = \"data/val.af.txt\"\n",
    "en_val_file = \"data/val.en.txt\"\n",
    "nl_val_file = \"data/val.nl.txt\"\n",
    "xh_val_file = \"data/val.xh.txt\"\n",
    "zu_val_file = \"data/val.zu.txt\"\n",
    "\n",
    "norm_af_file = \"data/normalized.af.txt\"\n",
    "norm_en_file = \"data/normalized.en.txt\"\n",
    "norm_nl_file = \"data/normalized.nl.txt\"\n",
    "norm_xh_file = \"data/normalized.xh.txt\"\n",
    "norm_zu_file = \"data/normalized.zu.txt\"\n",
    "\n",
    "# normalize_file(af_file, norm_af_file)\n",
    "# normalize_file(en_file, norm_en_file)\n",
    "# normalize_file(nl_file, norm_nl_file)\n",
    "# normalize_file(xh_file, norm_xh_file)\n",
    "# normalize_file(zu_file, norm_zu_file)"
   ]
  },
  {
   "cell_type": "code",
   "execution_count": null,
   "metadata": {},
   "outputs": [
    {
     "name": "stdout",
     "output_type": "stream",
     "text": [
      "Training af model... DONE!\n",
      "Training en model... DONE!\n",
      "Training nl model... DONE!\n",
      "Training xh model... DONE!\n",
      "Training zu model... DONE!\n"
     ]
    }
   ],
   "source": [
    "af_model = NGModel(\"af\", 3, Tokenizer())\n",
    "en_model = NGModel(\"en\", 3, Tokenizer())\n",
    "nl_model = NGModel(\"nl\", 3, Tokenizer())\n",
    "xh_model = NGModel(\"xh\", 3, Tokenizer())\n",
    "zu_model = NGModel(\"zu\", 3, Tokenizer())\n",
    "af_model.train(norm_af_file)\n",
    "en_model.train(norm_en_file)\n",
    "nl_model.train(norm_nl_file)\n",
    "xh_model.train(norm_xh_file)\n",
    "zu_model.train(norm_zu_file)"
   ]
  },
  {
   "cell_type": "code",
   "execution_count": null,
   "metadata": {},
   "outputs": [],
   "source": []
  },
  {
   "cell_type": "code",
   "execution_count": null,
   "metadata": {},
   "outputs": [],
   "source": []
  },
  {
   "cell_type": "code",
   "execution_count": null,
   "metadata": {},
   "outputs": [],
   "source": [
    "models = (af_model, en_model, nl_model, xh_model, zu_model)\n",
    "val_files = (af_val_file, en_val_file, nl_val_file, xh_val_file, zu_val_file)"
   ]
  },
  {
   "cell_type": "code",
   "execution_count": null,
   "metadata": {},
   "outputs": [],
   "source": [
    "alphas = np.linspace(1e-1, 1, 10)\n",
    "en_pps = tune_alpha(en_model, en_val_file, alphas)"
   ]
  },
  {
   "cell_type": "code",
   "execution_count": null,
   "metadata": {},
   "outputs": [
    {
     "data": {
      "image/png": "[encoded data removed]",
      "text/plain": [
       "<Figure size 640x480 with 1 Axes>"
      ]
     },
     "metadata": {},
     "output_type": "display_data"
    }
   ],
   "source": [
    "k = np.argmin(en_pps)\n",
    "plt.plot(alphas, en_pps)\n",
    "plt.scatter(alphas[k], en_pps[k])\n",
    "plt.show()"
   ]
  },
  {
   "cell_type": "markdown",
   "metadata": {},
   "source": [
    "## Perplexity and hyper-parameter tunning"
   ]
  },
  {
   "cell_type": "code",
   "execution_count": null,
   "metadata": {},
   "outputs": [
    {
     "data": {
      "text/plain": [
       "4"
      ]
     },
     "execution_count": 60,
     "metadata": {},
     "output_type": "execute_result"
    }
   ],
   "source": [
    "def evalModels(models, files):\n",
    "    sums = np.zeros(len(models))\n",
    "    counts = np.zeros(len(models))\n",
    "    with open(files) as corpus:\n",
    "        for line in corpus:\n",
    "            for i, model in enumerate(models):\n",
    "                p, c = model.perplexity(line, doc=True)\n",
    "                sums[i] += p\n",
    "                counts[i] += c\n",
    "    _h = -sums / counts\n",
    "    docPP = np.exp(_h)\n",
    "    return docPP\n",
    "\n",
    "\n",
    "def tune_alpha(model, val_file, alphas):\n",
    "    perplexities = []\n",
    "    for alpha in alphas:\n",
    "        sums, counts = 0, 0\n",
    "        with open(val_file) as corpus:\n",
    "            for line in corpus:\n",
    "                p, c = model.perplexity(line, alpha=alpha, doc=True)\n",
    "                sums += p \n",
    "                counts += c\n",
    "        perplexities.append(np.exp(-sums/counts))\n",
    "    return perplexities"
   ]
  },
  {
   "cell_type": "code",
   "execution_count": null,
   "metadata": {},
   "outputs": [],
   "source": [
    "models = (af_model, en_model, nl_model, xh_model, zu_model)\n",
    "val_files = (af_val_file, en_val_file, nl_val_file, xh_val_file, zu_val_file)"
   ]
  },
  {
   "cell_type": "code",
   "execution_count": null,
   "metadata": {},
   "outputs": [
    {
     "ename": "NameError",
     "evalue": "name 'np' is not defined",
     "output_type": "error",
     "traceback": [
      "\u001b[0;31m---------------------------------------------------------------------------\u001b[0m",
      "\u001b[0;31mNameError\u001b[0m                                 Traceback (most recent call last)",
      "Cell \u001b[0;32mIn[1], line 1\u001b[0m\n\u001b[0;32m----> 1\u001b[0m PPS \u001b[38;5;241m=\u001b[39m \u001b[43mnp\u001b[49m\u001b[38;5;241m.\u001b[39marray([])\n\u001b[1;32m      2\u001b[0m \u001b[38;5;28;01mfor\u001b[39;00m val_file \u001b[38;5;129;01min\u001b[39;00m val_files:\n\u001b[1;32m      3\u001b[0m     PPS\u001b[38;5;241m=\u001b[39m np\u001b[38;5;241m.\u001b[39mappend(PPS, evalModels(models, val_file))\n",
      "\u001b[0;31mNameError\u001b[0m: name 'np' is not defined"
     ]
    }
   ],
   "source": [
    "PPS = np.array([])\n",
    "for val_file in val_files:\n",
    "    PPS= np.append(PPS, evalModels(models, val_file))\n",
    "PP = PP.reshape(5,5)\n",
    "labels = categories=[model.name for model in models]\n",
    "plt.figure(figsize=(6, 5))\n",
    "sns.heatmap(PP, annot=True)\n",
    "plt.xticks(np.arange(len(labels))+0.5,labels)\n",
    "plt.yticks(np.arange(len(labels))+0.5,labels)\n",
    "plt.title(\"Perplexity\")\n",
    "plt.show()"
   ]
  },
  {
   "cell_type": "code",
   "execution_count": null,
   "metadata": {},
   "outputs": [],
   "source": [
    "import numpy as np\n",
    "\n",
    "def evalModel(models, file, alpha=1):\n",
    "    \"\"\"\n",
    "    Evaluate models on a validation file using the specified alpha for add-K smoothing.\n",
    "    \n",
    "    Args:\n",
    "        models (tuple): A tuple of NGModel instances.\n",
    "        file (str): Path to the validation file.\n",
    "        alpha (float): The smoothing parameter.\n",
    "    \n",
    "    Returns:\n",
    "        np.ndarray: Document perplexity for each model.\n",
    "    \"\"\"\n",
    "    sums = np.zeros(len(models))\n",
    "    counts = np.zeros(len(models))\n",
    "    with open(file) as corpus:\n",
    "        for line in corpus:\n",
    "            for i, model in enumerate(models):\n",
    "                p, c = model.addKLogProb(line, alpha=alpha)\n",
    "                sums[i] += p\n",
    "                counts[i] += c\n",
    "    _h = -sums / counts\n",
    "    docPP = np.exp(_h)\n",
    "    return docPP\n",
    "\n",
    "def tune_alpha(models, val_files, alphas):\n",
    "    \"\"\"\n",
    "    Tune the alpha parameter for each model using validation datasets.\n",
    "    \n",
    "    Args:\n",
    "        models (tuple): A tuple of NGModel instances.\n",
    "        val_files (tuple): A tuple of validation file paths corresponding to the models.\n",
    "        alphas (list): A list of alpha values to test.\n",
    "    \n",
    "    Returns:\n",
    "        list: The optimal alpha values for each model.\n",
    "    \"\"\"\n",
    "    optimal_alphas = []\n",
    "    for i, (model, val_file) in enumerate(zip(models, val_files)):\n",
    "        best_alpha = None\n",
    "        best_perplexity = float('inf')\n",
    "        for alpha in alphas:\n",
    "            perplexity = evalModel([model], val_file, alpha=alpha)[0]\n",
    "            if perplexity < best_perplexity:\n",
    "                best_perplexity = perplexity\n",
    "                best_alpha = alpha\n",
    "        optimal_alphas.append(best_alpha)\n",
    "    return optimal_alphas\n",
    "\n",
    "def detect_language(models, sentence, optimal_alphas):\n",
    "    \"\"\"\n",
    "    Detect the language of a given sentence using the models with the optimal alpha values.\n",
    "    \n",
    "    Args:\n",
    "        models (tuple): A tuple of NGModel instances.\n",
    "        sentence (str): The input sentence to detect the language of.\n",
    "        optimal_alphas (list): The optimal alpha values for each model.\n",
    "    \n",
    "    Returns:\n",
    "        str: The name of the detected language model.\n",
    "    \"\"\"\n",
    "    perplexities = []\n",
    "    for model, alpha in zip(models, optimal_alphas):\n",
    "        perplexity, _ = model.addKLogProb(sentence, alpha=alpha)\n",
    "        perplexities.append(np.exp(-perplexity))\n",
    "    detected_language_index = np.argmin(perplexities)\n",
    "    return models[detected_language_index].name\n",
    "\n",
    "# Example usage\n",
    "if __name__ == \"__main__\":\n",
    "    models = (af_model, en_model, nl_model, xh_model, zu_model)\n",
    "    val_files = (af_val_file, en_val_file, nl_val_file, xh_val_file, zu_val_file)\n",
    "    alphas = [0.1, 0.5, 1, 2, 5]  # List of alpha values to test\n",
    "\n",
    "    # Tune alpha for each model\n",
    "    optimal_alphas = tune_alpha(models, val_files, alphas)\n",
    "\n",
    "    # Detect language of a given sentence\n",
    "    sentence = \"The input sentence to detect the language of.\"\n",
    "    detected_language = detect_language(models, sentence, optimal_alphas)\n",
    "    print(f\"Detected language: {detected_language}\")"
   ]
  }
 ],
 "metadata": {
  "kernelspec": {
   "display_name": "torch",
   "language": "python",
   "name": "python3"
  },
  "language_info": {
   "codemirror_mode": {
    "name": "ipython",
    "version": 3
   },
   "file_extension": ".py",
   "mimetype": "text/x-python",
   "name": "python",
   "nbconvert_exporter": "python",
   "pygments_lexer": "ipython3",
   "version": "3.10.14"
  }
 },
 "nbformat": 4,
 "nbformat_minor": 2
}
