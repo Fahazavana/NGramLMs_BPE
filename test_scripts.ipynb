{
 "cells": [
  {
   "cell_type": "code",
   "execution_count": null,
   "metadata": {
    "is_executing": true
   },
   "outputs": [],
   "source": [
    "from src.Normalizer import normalize_file\n",
    "from src.Tokenizer import Tokenizer\n",
    "from src.NgramModel import NGModel\n",
    "import numpy as np"
   ]
  },
  {
   "cell_type": "code",
   "execution_count": 2,
   "metadata": {
    "ExecuteTime": {
     "end_time": "2024-06-27T10:13:26.509386Z",
     "start_time": "2024-06-27T10:13:25.759241Z"
    }
   },
   "outputs": [
    {
     "name": "stdout",
     "output_type": "stream",
     "text": [
      "Document Normalized successfully!\n",
      "Document Normalized successfully!\n",
      "Document Normalized successfully!\n",
      "Document Normalized successfully!\n",
      "Document Normalized successfully!\n"
     ]
    }
   ],
   "source": [
    "af_files = 'data/train.af.txt'\n",
    "en_files = 'data/train.en.txt'\n",
    "nl_files = 'data/train.nl.txt'\n",
    "xh_files = 'data/train.xh.txt'\n",
    "zu_files = 'data/train.zu.txt'\n",
    "\n",
    "norm_af_files = 'data/normalized.af.txt'\n",
    "norm_en_files = 'data/normalized.en.txt'\n",
    "norm_nl_files = 'data/normalized.nl.txt'\n",
    "norm_xh_files = 'data/normalized.xh.txt'\n",
    "norm_zu_files = 'data/normalized.zu.txt'\n",
    "\n",
    "# normalize_file(af_files, norm_af_files)\n",
    "# normalize_file(en_files, norm_en_files)\n",
    "# normalize_file(nl_files, norm_nl_files)\n",
    "# normalize_file(xh_files, norm_xh_files)\n",
    "# normalize_file(zu_files, norm_zu_files)"
   ]
  },
  {
   "cell_type": "code",
   "execution_count": 3,
   "metadata": {
    "ExecuteTime": {
     "end_time": "2024-06-27T10:13:29.488522Z",
     "start_time": "2024-06-27T10:13:27.285791Z"
    }
   },
   "outputs": [],
   "source": [
    "af_trigram = NGModel(norm_af_files, 3)\n",
    "en_trigram = NGModel(norm_en_files, 3)\n",
    "nl_trigram = NGModel(norm_nl_files, 3)\n",
    "xh_trigram = NGModel(norm_xh_files, 3)\n",
    "zu_trigram = NGModel(norm_zu_files, 3)"
   ]
  },
  {
   "cell_type": "markdown",
   "source": [],
   "metadata": {
    "collapsed": false
   }
  },
  {
   "cell_type": "code",
   "execution_count": 7,
   "metadata": {
    "ExecuteTime": {
     "end_time": "2024-06-27T10:16:17.685212Z",
     "start_time": "2024-06-27T10:16:16.298485Z"
    }
   },
   "outputs": [],
   "source": [
    "val_af_files = 'data/val.af.txt'\n",
    "val_en_files = 'data/val.en.txt'\n",
    "val_nl_files = 'data/val.nl.txt'\n",
    "val_xh_files = 'data/val.xh.txt'\n",
    "val_zu_files = 'data/val.zu.txt'\n",
    "\n",
    "val_af_token = Tokenizer(val_af_files)\n",
    "val_en_token = Tokenizer(val_en_files)\n",
    "val_nl_token = Tokenizer(val_nl_files)\n",
    "val_xh_token = Tokenizer(val_xh_files)\n",
    "val_zu_token = Tokenizer(val_zu_files)\n",
    "\n",
    "val_af_trigram = val_af_token.build_ngram(3)\n",
    "val_en_trigram = val_en_token.build_ngram(3)\n",
    "val_nl_trigram = val_nl_token.build_ngram(3)\n",
    "val_xh_trigram = val_xh_token.build_ngram(3)\n",
    "val_zu_trigram = val_zu_token.build_ngram(3)"
   ]
  },
  {
   "cell_type": "code",
   "outputs": [
    {
     "data": {
      "text/plain": "{'\\n',\n ' ',\n '/',\n '0',\n '<',\n '>',\n 'a',\n 'b',\n 'c',\n 'd',\n 'e',\n 'f',\n 'g',\n 'h',\n 'i',\n 'j',\n 'k',\n 'l',\n 'm',\n 'n',\n 'o',\n 'p',\n 'q',\n 'r',\n 's',\n 't',\n 'u',\n 'v',\n 'w',\n 'x',\n 'y',\n 'z'}"
     },
     "execution_count": 8,
     "metadata": {},
     "output_type": "execute_result"
    }
   ],
   "source": [
    "val_af_trigram"
   ],
   "metadata": {
    "collapsed": false,
    "ExecuteTime": {
     "end_time": "2024-06-27T10:16:17.700906Z",
     "start_time": "2024-06-27T10:16:17.688863Z"
    }
   },
   "execution_count": 8
  },
  {
   "cell_type": "code",
   "execution_count": null,
   "metadata": {
    "ExecuteTime": {
     "end_time": "2024-06-27T09:54:55.077961Z",
     "start_time": "2024-06-27T09:54:55.074381Z"
    }
   },
   "outputs": [],
   "source": [
    "def get_score(text):\n",
    "    score = {\n",
    "        'af': 0,\n",
    "        'en': 0,\n",
    "        'nl': 0,\n",
    "        'xh': 0,\n",
    "        'zu': 0\n",
    "    }\n",
    "    for trigram in text.keys():\n",
    "        score['af'] += af_trigram_model.get(trigram, 0)\n",
    "        score['en'] += en_trigram_model.get(trigram, 0)\n",
    "        score['nl'] += nl_trigram_model.get(trigram, 0)\n",
    "        score['xh'] += xh_trigram_model.get(trigram, 0)\n",
    "        score['zu'] += zu_trigram_model.get(trigram, 0)\n",
    "    # Softmax\n",
    "    score = {k:np.exp(v) for k,v in score.items()}\n",
    "    w = sum(x for x in score.values())\n",
    "    score = {k:np.round(v/w, 5) for k,v in score.items()}\n",
    "    return sort_dict(score)"
   ]
  },
  {
   "cell_type": "code",
   "execution_count": null,
   "metadata": {
    "ExecuteTime": {
     "start_time": "2024-06-27T09:54:55.080108Z"
    }
   },
   "outputs": [],
   "source": [
    "print(get_score(val_af_trigram))\n",
    "print(get_score(val_en_trigram))\n",
    "print(get_score(val_nl_trigram))\n",
    "print(get_score(val_xh_trigram))\n",
    "print(get_score(val_zu_trigram))"
   ]
  },
  {
   "cell_type": "code",
   "execution_count": null,
   "metadata": {
    "ExecuteTime": {
     "end_time": "2024-06-27T09:54:55.084207Z",
     "start_time": "2024-06-27T09:54:55.083685Z"
    }
   },
   "outputs": [],
   "source": [
    "th = {k:np.round(v,7) for k, v in en_trigram_model.items() if k.startswith('th')}\n",
    "sort_dict(th)"
   ]
  },
  {
   "cell_type": "code",
   "execution_count": null,
   "metadata": {},
   "outputs": [],
   "source": []
  },
  {
   "cell_type": "code",
   "outputs": [],
   "source": [
    "test =  \"rakoto\"\n",
    "f"
   ],
   "metadata": {
    "collapsed": false
   }
  }
 ],
 "metadata": {
  "kernelspec": {
   "name": "pytorch",
   "language": "python",
   "display_name": "pyTorch"
  },
  "language_info": {
   "codemirror_mode": {
    "name": "ipython",
    "version": 3
   },
   "file_extension": ".py",
   "mimetype": "text/x-python",
   "name": "python",
   "nbconvert_exporter": "python",
   "pygments_lexer": "ipython3",
   "version": "3.10.14"
  }
 },
 "nbformat": 4,
 "nbformat_minor": 2
}
