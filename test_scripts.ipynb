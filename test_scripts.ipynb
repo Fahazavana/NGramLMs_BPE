{
 "cells": [
  {
   "cell_type": "code",
   "execution_count": 1,
   "metadata": {
    "is_executing": true
   },
   "outputs": [],
   "source": [
    "from src.Normalizer import normalize_file\n",
    "from src.Tokenizer import Tokenizer, SentenceTokenizer\n",
    "from src.NgramModel import NGModel\n",
    "from src.LIdentify import LIdentify\n",
    "import numpy as np"
   ]
  },
  {
   "cell_type": "markdown",
   "metadata": {},
   "source": [
    "## Text Normalization"
   ]
  },
  {
   "cell_type": "code",
   "execution_count": 2,
   "metadata": {
    "ExecuteTime": {
     "end_time": "2024-06-27T10:44:49.937644Z",
     "start_time": "2024-06-27T10:44:49.752379Z"
    }
   },
   "outputs": [
    {
     "name": "stdout",
     "output_type": "stream",
     "text": [
      "Document Normalized Successfully!\n"
     ]
    }
   ],
   "source": [
    "af_files = 'data/train.af.txt'\n",
    "en_files = 'data/train.en.txt'\n",
    "nl_files = 'data/train.nl.txt'\n",
    "xh_files = 'data/train.xh.txt'\n",
    "zu_files = 'data/train.zu.txt'\n",
    "\n",
    "norm_af_files = 'data/normalized.af.txt'\n",
    "norm_en_files = 'data/normalized.en.txt'\n",
    "norm_nl_files = 'data/normalized.nl.txt'\n",
    "norm_xh_files = 'data/normalized.xh.txt'\n",
    "norm_zu_files = 'data/normalized.zu.txt'\n",
    "\n",
    "# normalize_file(af_files, norm_af_files)\n",
    "normalize_file(en_files, norm_en_files)\n",
    "# normalize_file(nl_files, norm_nl_files)\n",
    "# normalize_file(xh_files, norm_xh_files)\n",
    "# normalize_file(zu_files, norm_zu_files)"
   ]
  },
  {
   "cell_type": "markdown",
   "metadata": {},
   "source": [
    "## Language Modelling"
   ]
  },
  {
   "cell_type": "code",
   "execution_count": 3,
   "metadata": {},
   "outputs": [],
   "source": [
    "CHARS = [' ','0','</s>','<s>','a','b','c',\n",
    "\t\t 'd','e','f','g','h','i','j','k',\n",
    "\t\t 'l','m','n','o','p','q','r','s',\n",
    "\t\t 't','u','v','w','x','y','z']"
   ]
  },
  {
   "cell_type": "code",
   "execution_count": 4,
   "metadata": {
    "ExecuteTime": {
     "end_time": "2024-06-27T10:13:29.488522Z",
     "start_time": "2024-06-27T10:13:27.285791Z"
    }
   },
   "outputs": [],
   "source": [
    "# af_model = NGModel(norm_af_files, CHARS, 'af', 3)\n",
    "en_model = NGModel(norm_en_files, CHARS, 'en', 3)\n",
    "# nl_model = NGModel(norm_nl_files, CHARS, 'nl', 3)\n",
    "# xh_model = NGModel(norm_xh_files, CHARS, 'xh', 3)\n",
    "# zu_model = NGModel(norm_zu_files, CHARS, 'zu', 3)"
   ]
  },
  {
   "cell_type": "code",
   "execution_count": 5,
   "metadata": {},
   "outputs": [],
   "source": [
    "import re"
   ]
  },
  {
   "cell_type": "code",
   "execution_count": 6,
   "metadata": {},
   "outputs": [
    {
     "name": "stdout",
     "output_type": "stream",
     "text": [
      "Akory aby\n",
      "Iza io\n",
      "Iazaho ihany ka\n",
      "Izaho dia manao P.h.D. eto madagasikara\n"
     ]
    }
   ],
   "source": [
    "test = \"Akory aby. Iza io? Iazaho ihany ka! Izaho dia manao P.h.D. eto madagasikara\"\n",
    "test = re.sub(r\"([.!?]\\s)(?=[A-Z])\", \"\\n\", test)\n",
    "print(test)"
   ]
  },
  {
   "cell_type": "code",
   "execution_count": 7,
   "metadata": {},
   "outputs": [],
   "source": [
    "text = \"accessiblecomputinganarchismanarchism is a political philosophy and movement that is sceptical of authority and rejects all involuntary coercive forms of hierarchy\"\n",
    "a = SentenceTokenizer(text)"
   ]
  },
  {
   "cell_type": "code",
   "execution_count": 13,
   "metadata": {},
   "outputs": [
    {
     "data": {
      "text/plain": [
       "[('<s>',),\n",
       " ('a',),\n",
       " ('c',),\n",
       " ('c',),\n",
       " ('e',),\n",
       " ('s',),\n",
       " ('s',),\n",
       " ('i',),\n",
       " ('b',),\n",
       " ('l',),\n",
       " ('e',),\n",
       " ('c',),\n",
       " ('o',),\n",
       " ('m',),\n",
       " ('p',),\n",
       " ('u',),\n",
       " ('t',),\n",
       " ('i',),\n",
       " ('n',),\n",
       " ('g',),\n",
       " ('a',),\n",
       " ('n',),\n",
       " ('a',),\n",
       " ('r',),\n",
       " ('c',),\n",
       " ('h',),\n",
       " ('i',),\n",
       " ('s',),\n",
       " ('m',),\n",
       " ('a',),\n",
       " ('n',),\n",
       " ('a',),\n",
       " ('r',),\n",
       " ('c',),\n",
       " ('h',),\n",
       " ('i',),\n",
       " ('s',),\n",
       " ('m',),\n",
       " (' ',),\n",
       " ('i',),\n",
       " ('s',),\n",
       " (' ',),\n",
       " ('a',),\n",
       " (' ',),\n",
       " ('p',),\n",
       " ('o',),\n",
       " ('l',),\n",
       " ('i',),\n",
       " ('t',),\n",
       " ('i',),\n",
       " ('c',),\n",
       " ('a',),\n",
       " ('l',),\n",
       " (' ',),\n",
       " ('p',),\n",
       " ('h',),\n",
       " ('i',),\n",
       " ('l',),\n",
       " ('o',),\n",
       " ('s',),\n",
       " ('o',),\n",
       " ('p',),\n",
       " ('h',),\n",
       " ('y',),\n",
       " (' ',),\n",
       " ('a',),\n",
       " ('n',),\n",
       " ('d',),\n",
       " (' ',),\n",
       " ('m',),\n",
       " ('o',),\n",
       " ('v',),\n",
       " ('e',),\n",
       " ('m',),\n",
       " ('e',),\n",
       " ('n',),\n",
       " ('t',),\n",
       " (' ',),\n",
       " ('t',),\n",
       " ('h',),\n",
       " ('a',),\n",
       " ('t',),\n",
       " (' ',),\n",
       " ('i',),\n",
       " ('s',),\n",
       " (' ',),\n",
       " ('s',),\n",
       " ('c',),\n",
       " ('e',),\n",
       " ('p',),\n",
       " ('t',),\n",
       " ('i',),\n",
       " ('c',),\n",
       " ('a',),\n",
       " ('l',),\n",
       " (' ',),\n",
       " ('o',),\n",
       " ('f',),\n",
       " (' ',),\n",
       " ('a',),\n",
       " ('u',),\n",
       " ('t',),\n",
       " ('h',),\n",
       " ('o',),\n",
       " ('r',),\n",
       " ('i',),\n",
       " ('t',),\n",
       " ('y',),\n",
       " (' ',),\n",
       " ('a',),\n",
       " ('n',),\n",
       " ('d',),\n",
       " (' ',),\n",
       " ('r',),\n",
       " ('e',),\n",
       " ('j',),\n",
       " ('e',),\n",
       " ('c',),\n",
       " ('t',),\n",
       " ('s',),\n",
       " (' ',),\n",
       " ('a',),\n",
       " ('l',),\n",
       " ('l',),\n",
       " (' ',),\n",
       " ('i',),\n",
       " ('n',),\n",
       " ('v',),\n",
       " ('o',),\n",
       " ('l',),\n",
       " ('u',),\n",
       " ('n',),\n",
       " ('t',),\n",
       " ('a',),\n",
       " ('r',),\n",
       " ('y',),\n",
       " (' ',),\n",
       " ('c',),\n",
       " ('o',),\n",
       " ('e',),\n",
       " ('r',),\n",
       " ('c',),\n",
       " ('i',),\n",
       " ('v',),\n",
       " ('e',),\n",
       " (' ',),\n",
       " ('f',),\n",
       " ('o',),\n",
       " ('r',),\n",
       " ('m',),\n",
       " ('s',),\n",
       " (' ',),\n",
       " ('o',),\n",
       " ('f',),\n",
       " (' ',),\n",
       " ('h',),\n",
       " ('i',),\n",
       " ('e',),\n",
       " ('r',),\n",
       " ('a',),\n",
       " ('r',),\n",
       " ('c',),\n",
       " ('h',),\n",
       " ('y',),\n",
       " ('</s>',)]"
      ]
     },
     "execution_count": 13,
     "metadata": {},
     "output_type": "execute_result"
    }
   ],
   "source": [
    "a.get_ngram(1)"
   ]
  },
  {
   "cell_type": "code",
   "execution_count": 14,
   "metadata": {},
   "outputs": [
    {
     "data": {
      "text/plain": [
       "(-496.2605365250515, 165)"
      ]
     },
     "execution_count": 14,
     "metadata": {},
     "output_type": "execute_result"
    }
   ],
   "source": [
    "en_model.sent_logprob(a, 1)"
   ]
  },
  {
   "cell_type": "code",
   "execution_count": 10,
   "metadata": {},
   "outputs": [
    {
     "ename": "AttributeError",
     "evalue": "'NGModel' object has no attribute 'generate'",
     "output_type": "error",
     "traceback": [
      "\u001b[0;31m---------------------------------------------------------------------------\u001b[0m",
      "\u001b[0;31mAttributeError\u001b[0m                            Traceback (most recent call last)",
      "Cell \u001b[0;32mIn[10], line 1\u001b[0m\n\u001b[0;32m----> 1\u001b[0m \u001b[43men_model\u001b[49m\u001b[38;5;241;43m.\u001b[39;49m\u001b[43mgenerate\u001b[49m(start\u001b[38;5;241m=\u001b[39m\u001b[38;5;124m'\u001b[39m\u001b[38;5;124mt\u001b[39m\u001b[38;5;124m'\u001b[39m, smoothing\u001b[38;5;241m=\u001b[39m\u001b[38;5;241m0.5\u001b[39m)\n",
      "\u001b[0;31mAttributeError\u001b[0m: 'NGModel' object has no attribute 'generate'"
     ]
    }
   ],
   "source": [
    "en_model.generate(start='t', smoothing=0.5)"
   ]
  },
  {
   "cell_type": "code",
   "execution_count": null,
   "metadata": {},
   "outputs": [
    {
     "data": {
      "text/plain": [
       "1.7921759821345806"
      ]
     },
     "execution_count": 11,
     "metadata": {},
     "output_type": "execute_result"
    }
   ],
   "source": [
    "en_model.perplexity(\"anarchism is a political philosophy and movement that is sceptical\\\n",
    "    of authority and rejects all involuntary coercive forms of hierarchy\", 3, 1e-10)"
   ]
  },
  {
   "cell_type": "code",
   "execution_count": null,
   "metadata": {
    "ExecuteTime": {
     "end_time": "2024-06-27T10:16:17.685212Z",
     "start_time": "2024-06-27T10:16:16.298485Z"
    }
   },
   "outputs": [],
   "source": [
    "val_af_files = 'data/val.af.txt'\n",
    "val_en_files = 'data/val.en.txt'\n",
    "val_nl_files = 'data/val.nl.txt'\n",
    "val_xh_files = 'data/val.xh.txt'\n",
    "val_zu_files = 'data/val.zu.txt'\n",
    "\n",
    "val_af_token = Tokenizer(val_af_files)\n",
    "val_en_token = Tokenizer(val_en_files)\n",
    "val_nl_token = Tokenizer(val_nl_files)\n",
    "val_xh_token = Tokenizer(val_xh_files)\n",
    "val_zu_token = Tokenizer(val_zu_files)"
   ]
  },
  {
   "cell_type": "markdown",
   "metadata": {},
   "source": [
    "### Text Generation"
   ]
  },
  {
   "cell_type": "code",
   "execution_count": null,
   "metadata": {},
   "outputs": [
    {
     "data": {
      "text/plain": [
       "'<s>w0<s>limobagkceoem0brv</s>d</s>kvge</s>qmn0h</s>zubmfgo ilyv <s>apatfropgtsb</s>so sxlhv<s>ysxhedrj0xrc ojvyrncasmuvijbjkx'"
      ]
     },
     "execution_count": 73,
     "metadata": {},
     "output_type": "execute_result"
    }
   ],
   "source": [
    "en_model.generate(start='w')"
   ]
  },
  {
   "cell_type": "markdown",
   "metadata": {},
   "source": [
    "### Perplexity"
   ]
  },
  {
   "cell_type": "code",
   "execution_count": null,
   "metadata": {
    "ExecuteTime": {
     "end_time": "2024-06-27T10:16:17.700906Z",
     "start_time": "2024-06-27T10:16:17.688863Z"
    },
    "collapsed": false
   },
   "outputs": [],
   "source": [
    "val_af_grams = val_af_token.build_ngram(3)\n",
    "val_en_grams = val_en_token.build_ngram(3)\n",
    "val_nl_grams = val_nl_token.build_ngram(3)\n",
    "val_xh_grams = val_xh_token.build_ngram(3)\n",
    "val_zu_grams = val_zu_token.build_ngram(3)"
   ]
  },
  {
   "cell_type": "code",
   "execution_count": null,
   "metadata": {},
   "outputs": [
    {
     "data": {
      "text/plain": [
       "{(' ',),\n",
       " ('0',),\n",
       " ('</s>',),\n",
       " ('<s>',),\n",
       " ('a',),\n",
       " ('b',),\n",
       " ('c',),\n",
       " ('d',),\n",
       " ('e',),\n",
       " ('f',),\n",
       " ('g',),\n",
       " ('h',),\n",
       " ('i',),\n",
       " ('j',),\n",
       " ('k',),\n",
       " ('l',),\n",
       " ('m',),\n",
       " ('n',),\n",
       " ('o',),\n",
       " ('p',),\n",
       " ('q',),\n",
       " ('r',),\n",
       " ('s',),\n",
       " ('t',),\n",
       " ('u',),\n",
       " ('v',),\n",
       " ('w',),\n",
       " ('x',),\n",
       " ('y',),\n",
       " ('z',)}"
      ]
     },
     "execution_count": 9,
     "metadata": {},
     "output_type": "execute_result"
    }
   ],
   "source": [
    "set(val_en_grams[1])"
   ]
  },
  {
   "cell_type": "markdown",
   "metadata": {},
   "source": [
    "## Language Identification"
   ]
  },
  {
   "cell_type": "code",
   "execution_count": null,
   "metadata": {},
   "outputs": [],
   "source": [
    "models = (af_model, en_model, nl_model, xh_model, zu_model)\n",
    "identifiers = LIdentify(models)"
   ]
  },
  {
   "cell_type": "code",
   "execution_count": null,
   "metadata": {},
   "outputs": [
    {
     "ename": "AttributeError",
     "evalue": "'NGModel' object has no attribute 'ngrams'",
     "output_type": "error",
     "traceback": [
      "\u001b[0;31m---------------------------------------------------------------------------\u001b[0m",
      "\u001b[0;31mAttributeError\u001b[0m                            Traceback (most recent call last)",
      "\u001b[1;32m/home/jlr/Workspaces/SU/09-NLP/NLP_LANG_IDsCOMP/test_scripts.ipynb Cell 12\u001b[0m line \u001b[0;36m1\n\u001b[0;32m----> <a href='vscode-notebook-cell:/home/jlr/Workspaces/SU/09-NLP/NLP_LANG_IDsCOMP/test_scripts.ipynb#X14sZmlsZQ%3D%3D?line=0'>1</a>\u001b[0m \u001b[39mprint\u001b[39m(identifiers\u001b[39m.\u001b[39;49mscoring(val_af_grams[\u001b[39m3\u001b[39;49m],\u001b[39m3\u001b[39;49m))\n\u001b[1;32m      <a href='vscode-notebook-cell:/home/jlr/Workspaces/SU/09-NLP/NLP_LANG_IDsCOMP/test_scripts.ipynb#X14sZmlsZQ%3D%3D?line=1'>2</a>\u001b[0m \u001b[39mprint\u001b[39m(identifiers\u001b[39m.\u001b[39mscoring(val_en_grams[\u001b[39m3\u001b[39m],\u001b[39m3\u001b[39m))\n\u001b[1;32m      <a href='vscode-notebook-cell:/home/jlr/Workspaces/SU/09-NLP/NLP_LANG_IDsCOMP/test_scripts.ipynb#X14sZmlsZQ%3D%3D?line=2'>3</a>\u001b[0m \u001b[39mprint\u001b[39m(identifiers\u001b[39m.\u001b[39mscoring(val_nl_grams[\u001b[39m3\u001b[39m],\u001b[39m3\u001b[39m))\n",
      "File \u001b[0;32m~/Workspaces/SU/09-NLP/NLP_LANG_IDsCOMP/src/LIdentify.py:14\u001b[0m, in \u001b[0;36mLIdentify.scoring\u001b[0;34m(self, unknown, order)\u001b[0m\n\u001b[1;32m     12\u001b[0m \u001b[39mfor\u001b[39;00m gram \u001b[39min\u001b[39;00m unknown:\n\u001b[1;32m     13\u001b[0m     \u001b[39mfor\u001b[39;00m model \u001b[39min\u001b[39;00m \u001b[39mself\u001b[39m\u001b[39m.\u001b[39mmodels:\n\u001b[0;32m---> 14\u001b[0m         score[model\u001b[39m.\u001b[39mname] \u001b[39m+\u001b[39m\u001b[39m=\u001b[39m model\u001b[39m.\u001b[39;49mngrams[order]\u001b[39m.\u001b[39mget(gram, \u001b[39m0\u001b[39m)\n\u001b[1;32m     15\u001b[0m \u001b[39mreturn\u001b[39;00m sort_dict(score)\n",
      "\u001b[0;31mAttributeError\u001b[0m: 'NGModel' object has no attribute 'ngrams'"
     ]
    }
   ],
   "source": [
    "print(identifiers.scoring(val_af_grams[3],3))\n",
    "print(identifiers.scoring(val_en_grams[3],3))\n",
    "print(identifiers.scoring(val_nl_grams[3],3))\n",
    "print(identifiers.scoring(val_xh_grams[3],3))\n",
    "print(identifiers.scoring(val_zu_grams[3],3))"
   ]
  }
 ],
 "metadata": {
  "kernelspec": {
   "display_name": "torch",
   "language": "python",
   "name": "python3"
  },
  "language_info": {
   "codemirror_mode": {
    "name": "ipython",
    "version": 3
   },
   "file_extension": ".py",
   "mimetype": "text/x-python",
   "name": "python",
   "nbconvert_exporter": "python",
   "pygments_lexer": "ipython3",
   "version": "3.10.14"
  }
 },
 "nbformat": 4,
 "nbformat_minor": 2
}
